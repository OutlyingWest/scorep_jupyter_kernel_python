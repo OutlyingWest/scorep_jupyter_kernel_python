{
 "cells": [
  {
   "attachments": {},
   "cell_type": "markdown",
   "metadata": {},
   "source": [
    "## The Score-P Python Kernel\n",
    "This is the Score-P Python Kernel that allows you to execute Jupyter Notebooks with Score-P for performance analysis. It supports the usual Jupyter interactivity between cells though with some limitations (see **General Limitations**).\n",
    "\n",
    "The kernel requires [Score-P](https://www.vi-hps.org/projects/score-p/) and [Score-P Python bindings](https://github.com/score-p/scorep_binding_python) to be installed."
   ]
  },
  {
   "attachments": {},
   "cell_type": "markdown",
   "metadata": {},
   "source": [
    "### Setup\n",
    "You can set up your Score-P environment by executing a cell that starts with the `%%scorep_env magic command`.\n",
    "\n",
    "You can set the Score-P Python binding arguments by executing a cell that starts with `%%scorep_python_binding_arguments`."
   ]
  },
  {
   "cell_type": "code",
   "execution_count": 1,
   "metadata": {
    "vscode": {
     "languageId": "any text"
    }
   },
   "outputs": [
    {
     "name": "stdout",
     "output_type": "stream",
     "text": [
      "set user environment sucessfully: {'SCOREP_ENABLE_TRACING': '1', 'SCOREP_ENABLE_PROFILING': '0', 'SCOREP_TOTAL_MEMORY': '3g'}"
     ]
    }
   ],
   "source": [
    "%%scorep_env\n",
    "SCOREP_ENABLE_TRACING=1\n",
    "SCOREP_ENABLE_PROFILING=0\n",
    "SCOREP_TOTAL_MEMORY=3g"
   ]
  },
  {
   "cell_type": "code",
   "execution_count": 2,
   "metadata": {
    "vscode": {
     "languageId": "any text"
    }
   },
   "outputs": [
    {
     "name": "stdout",
     "output_type": "stream",
     "text": [
      "use the following scorep python binding arguments: --noinstrumenter"
     ]
    }
   ],
   "source": [
    "%%scorep_python_binding_arguments\n",
    "--noinstrumenter"
   ]
  },
  {
   "attachments": {},
   "cell_type": "markdown",
   "metadata": {},
   "source": [
    "### Cells instrumentation\n",
    "\n",
    "Cells that should be executed with Score-P have to be marked with `%%execute_with_scorep` in the first line. Cells without that command are executed as ordinary Python processes."
   ]
  },
  {
   "cell_type": "code",
   "execution_count": 3,
   "metadata": {
    "vscode": {
     "languageId": "any text"
    }
   },
   "outputs": [],
   "source": [
    "%%execute_with_scorep\n",
    "import scorep\n",
    "class A:\n",
    "    desc = \"This class and method should be...\"\n",
    "    def print_desc(self, x):\n",
    "        print(self.desc + str(x))\n",
    "\n",
    "a = A()"
   ]
  },
  {
   "cell_type": "code",
   "execution_count": 4,
   "metadata": {
    "vscode": {
     "languageId": "any text"
    }
   },
   "outputs": [
    {
     "name": "stdout",
     "output_type": "stream",
     "text": [
      "This class and method should be...known here\n"
     ]
    }
   ],
   "source": [
    "a.print_desc(\"known here\")"
   ]
  },
  {
   "cell_type": "code",
   "execution_count": 5,
   "metadata": {
    "vscode": {
     "languageId": "any text"
    }
   },
   "outputs": [],
   "source": [
    "a.desc = \"new desc\""
   ]
  },
  {
   "cell_type": "code",
   "execution_count": 6,
   "metadata": {
    "vscode": {
     "languageId": "any text"
    }
   },
   "outputs": [
    {
     "name": "stdout",
     "output_type": "stream",
     "text": [
      "new desc\n"
     ]
    }
   ],
   "source": [
    "print(a.desc)"
   ]
  },
  {
   "cell_type": "code",
   "execution_count": 7,
   "metadata": {
    "vscode": {
     "languageId": "any text"
    }
   },
   "outputs": [],
   "source": [
    "%%execute_with_scorep\n",
    "import scorep\n",
    "with scorep.instrumenter.enable():\n",
    "    a.desc = \"new desc2\""
   ]
  },
  {
   "cell_type": "code",
   "execution_count": 8,
   "metadata": {
    "vscode": {
     "languageId": "any text"
    }
   },
   "outputs": [
    {
     "name": "stdout",
     "output_type": "stream",
     "text": [
      "new desc2\n"
     ]
    }
   ],
   "source": [
    "print(a.desc)"
   ]
  },
  {
   "cell_type": "code",
   "execution_count": 9,
   "metadata": {
    "vscode": {
     "languageId": "any text"
    }
   },
   "outputs": [],
   "source": [
    "%%execute_with_scorep\n",
    "import scorep\n",
    "import time\n",
    "\n",
    "def sleep_and_double(x):\n",
    "    time.sleep(x)\n",
    "    return 2*x\n",
    "\n",
    "with scorep.instrumenter.enable():\n",
    "    x = 5\n",
    "    x = sleep_and_double(x)\n",
    "    x = sleep_and_double(x)"
   ]
  },
  {
   "cell_type": "code",
   "execution_count": 10,
   "metadata": {
    "vscode": {
     "languageId": "any text"
    }
   },
   "outputs": [
    {
     "name": "stdout",
     "output_type": "stream",
     "text": [
      "40\n"
     ]
    }
   ],
   "source": [
    "print(x)"
   ]
  },
  {
   "attachments": {},
   "cell_type": "markdown",
   "metadata": {},
   "source": [
    "### Multicell mode\n",
    "You can also treat multiple cells as one single cell by using the multicell mode.\n",
    "\n",
    "For that, you can mark the cells in the order you wish to execute them. Start the marking process by a cell that starts with the `%%enable_multicellmode` command.\n",
    "\n",
    "Now mark your cells by running them. Note that the cells will not be executed at this point but will be marked for later execution.\n",
    "You can stop the marking and execute all the marked cells by running a cell that starts with `%%finalize_multicellmode` command.\n",
    "This will execute all the marked cells orderly with Score-P. Note that the `%%execute_with_scorep` command has no effect in the multi cell mode.\n",
    "\n",
    "There is no \"unmark\" command available but you can abort the multicellmode by the `%%abort_multicellmode` command. Start your marking process again if you have marked your cells in the wrong order.\n",
    "\n",
    "The `%%enable_multicellmode`, `%%finalize_multicellmode` and `%%abort_multicellmode` commands should be run in an exclusive cell. Additional code in the cell will be ignored."
   ]
  },
  {
   "cell_type": "code",
   "execution_count": 21,
   "metadata": {
    "vscode": {
     "languageId": "any text"
    }
   },
   "outputs": [
    {
     "name": "stdout",
     "output_type": "stream",
     "text": [
      "started multi-cell mode. The following cells will be marked."
     ]
    }
   ],
   "source": [
    "%%enable_multicellmode"
   ]
  },
  {
   "cell_type": "code",
   "execution_count": 22,
   "metadata": {
    "vscode": {
     "languageId": "any text"
    }
   },
   "outputs": [
    {
     "name": "stdout",
     "output_type": "stream",
     "text": [
      "marked the cell for multi-cell mode. This cell will be executed at position: 1"
     ]
    }
   ],
   "source": [
    "with scorep.instrumenter.enable():\n",
    "    class B:\n",
    "        desc = \"This is a class defined in multi cell mode\"\n",
    "        def print_desc(self, x):\n",
    "            print(self.desc + str(x))"
   ]
  },
  {
   "cell_type": "code",
   "execution_count": 23,
   "metadata": {
    "vscode": {
     "languageId": "any text"
    }
   },
   "outputs": [
    {
     "name": "stdout",
     "output_type": "stream",
     "text": [
      "marked the cell for multi-cell mode. This cell will be executed at position: 2"
     ]
    }
   ],
   "source": [
    "import scorep\n",
    "with scorep.instrumenter.enable():\n",
    "    b = B()"
   ]
  },
  {
   "cell_type": "code",
   "execution_count": 24,
   "metadata": {
    "vscode": {
     "languageId": "any text"
    }
   },
   "outputs": [
    {
     "name": "stdout",
     "output_type": "stream",
     "text": [
      "marked the cell for multi-cell mode. This cell will be executed at position: 3"
     ]
    }
   ],
   "source": [
    "with scorep.instrumenter.enable():\n",
    "    b.print_desc(\"...and this object is initialized and used in it.\")"
   ]
  },
  {
   "cell_type": "code",
   "execution_count": 25,
   "metadata": {
    "vscode": {
     "languageId": "any text"
    }
   },
   "outputs": [
    {
     "name": "stdout",
     "output_type": "stream",
     "text": [
      "marked the cell for multi-cell mode. This cell will be executed at position: 4"
     ]
    }
   ],
   "source": [
    "b.desc = \"modified desc\""
   ]
  },
  {
   "cell_type": "code",
   "execution_count": 26,
   "metadata": {
    "vscode": {
     "languageId": "any text"
    }
   },
   "outputs": [
    {
     "name": "stdout",
     "output_type": "stream",
     "text": [
      "marked the cell for multi-cell mode. This cell will be executed at position: 5"
     ]
    }
   ],
   "source": [
    "print(b.desc)"
   ]
  },
  {
   "cell_type": "code",
   "execution_count": 15,
   "metadata": {
    "vscode": {
     "languageId": "any text"
    }
   },
   "outputs": [
    {
     "name": "stdout",
     "output_type": "stream",
     "text": [
      "aborted multi-cell mode."
     ]
    }
   ],
   "source": [
    "#%%abort_multicellmode"
   ]
  },
  {
   "cell_type": "code",
   "execution_count": 27,
   "metadata": {
    "vscode": {
     "languageId": "any text"
    }
   },
   "outputs": [
    {
     "name": "stdout",
     "output_type": "stream",
     "text": [
      "finalizing multi-cell mode and execute cells.This is a class defined in multi cell mode...and this object is initialized and used in it.\n",
      "modified desc\n"
     ]
    }
   ],
   "source": [
    "%%finalize_multicellmode"
   ]
  },
  {
   "attachments": {},
   "cell_type": "markdown",
   "metadata": {},
   "source": [
    "### Write mode\n",
    "\n",
    "With write mode you can convert notebook cells into Python script which is then to be executed by Score-P bindings using auxillary bash script. \n",
    "\n",
    "Similarly to multicell mode, you can run a cell with `%%start_writefile` magic command to enable write mode. Then, running the cells will record their contents instead of executing them. Environment variables and Score-P Python bindings arguments will be written to bash script. Finish the write mode with `%%end_writefile` cell.\n",
    "\n",
    "You can specify Python script name by providing it as an argument for `%%start_writefile`."
   ]
  },
  {
   "cell_type": "code",
   "execution_count": null,
   "metadata": {
    "vscode": {
     "languageId": "plaintext"
    }
   },
   "outputs": [],
   "source": [
    "%%start_writefile myscript.py"
   ]
  },
  {
   "cell_type": "code",
   "execution_count": null,
   "metadata": {
    "vscode": {
     "languageId": "plaintext"
    }
   },
   "outputs": [],
   "source": [
    "%%scorep_env\n",
    "SCOREP_ENABLE_TRACING=1\n",
    "SCOREP_ENABLE_PROFILING=0\n",
    "SCOREP_TOTAL_MEMORY=3g"
   ]
  },
  {
   "cell_type": "code",
   "execution_count": null,
   "metadata": {
    "vscode": {
     "languageId": "plaintext"
    }
   },
   "outputs": [],
   "source": [
    "%%scorep_python_binding_arguments\n",
    "--noinstrumenter"
   ]
  },
  {
   "cell_type": "code",
   "execution_count": null,
   "metadata": {
    "vscode": {
     "languageId": "plaintext"
    }
   },
   "outputs": [],
   "source": [
    "print(\"Cell without instrumentation.\")"
   ]
  },
  {
   "cell_type": "code",
   "execution_count": null,
   "metadata": {
    "vscode": {
     "languageId": "plaintext"
    }
   },
   "outputs": [],
   "source": [
    "%%execute_with_scorep\n",
    "\n",
    "import numpy as np\n",
    "import scorep\n",
    "\n",
    "a = np.array([1, 2, 3])\n",
    "b = np.array([4, 5, 6])\n",
    "c = a.dot(b)"
   ]
  },
  {
   "cell_type": "code",
   "execution_count": null,
   "metadata": {
    "vscode": {
     "languageId": "plaintext"
    }
   },
   "outputs": [],
   "source": [
    "%%enable_multicellmode\n",
    "\n",
    "with scorep.instrumenter.enable():\n",
    "    d = a.outer(b)"
   ]
  },
  {
   "cell_type": "code",
   "execution_count": null,
   "metadata": {
    "vscode": {
     "languageId": "plaintext"
    }
   },
   "outputs": [],
   "source": [
    "with scorep.instrumenter.enable():\n",
    "    e = b.outer(a)"
   ]
  },
  {
   "cell_type": "code",
   "execution_count": null,
   "metadata": {
    "vscode": {
     "languageId": "plaintext"
    }
   },
   "outputs": [],
   "source": [
    "%%abort_multicellmode"
   ]
  },
  {
   "cell_type": "code",
   "execution_count": null,
   "metadata": {
    "vscode": {
     "languageId": "plaintext"
    }
   },
   "outputs": [],
   "source": [
    "%%finalize_multicellmode"
   ]
  },
  {
   "cell_type": "code",
   "execution_count": null,
   "metadata": {
    "vscode": {
     "languageId": "plaintext"
    }
   },
   "outputs": [],
   "source": [
    "%%end_writefile"
   ]
  },
  {
   "attachments": {},
   "cell_type": "markdown",
   "metadata": {},
   "source": [
    "You can now run `myscript_run.sh` to execute Python script with Score-P bindings."
   ]
  },
  {
   "attachments": {},
   "cell_type": "markdown",
   "metadata": {},
   "source": [
    "### Presentation of Performance Data\n",
    "\n",
    "To inspect the collected performance data you can use tools such as [Vampir](https://vampir.eu/) (Trace) or [Cube](https://www.scalasca.org/software/cube-4.x/) (Profile).\n",
    "\n",
    "### Future Work\n",
    "\n",
    "The kernel is still under development. The following is on the agenda:\n",
    " \n",
    " - add support for decorators (currently they are not considered in persistency handling)\n",
    " - the output of the inner python process needs to be handled as a stream, currently you receive all the feedback at the end of the process at once\n",
    " - performance improvements (use json or file based database for persistency instead of pickle/shelve might improve runtime)\n",
    " \n",
    "PRs are welcome.\n",
    "\n",
    "### General Limitations \n",
    "\n",
    "- The kernel does not support jupyter magic, since the Score-P Python binding does not support it.\n",
    "\n",
    "For the execution of a cell, the kernel starts a new Python process either with Score-P or standalone. The kernel handles persistency between these processes on its own. Therefore it uses pickle/shelve and additional techniques. However this comes with the following drawbacks:\n",
    "\n",
    "- when dealing with big data structures, there might be a big runtime overhead at the beginning and the end of a cell. This is due to additional data saving and loading processes for persistency in the background. However this does not affect the actual user code and the Score-P measurements.\n",
    "- Pickle/Shelve can not handle each kind ob Python object (e.g. file handles, network connections,...). Thus, they can not be shared between cells and your notebook might not work.\n",
    "- Pickle/Shelve does not store class information but gives a reference to the class when storing a class instance. Thus, overwriting classes differs from the ordinary Python way. E.g. if you define a class and an object of this class in one cell and overwrite the class in a different cell, the defined object will also be changed. So please avoid class overwriting."
   ]
  }
 ],
 "metadata": {
  "kernelspec": {
   "display_name": "scorep-python3",
   "language": "python3",
   "name": "scorep-python3"
  },
  "language_info": {
   "file_extension": ".py",
   "mimetype": "text/plain",
   "name": "Any text"
  }
 },
 "nbformat": 4,
 "nbformat_minor": 4
}
